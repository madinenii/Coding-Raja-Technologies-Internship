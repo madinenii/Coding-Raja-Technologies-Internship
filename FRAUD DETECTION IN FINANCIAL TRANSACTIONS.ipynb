{
 "cells": [
  {
   "cell_type": "code",
   "execution_count": 1,
   "id": "cffd9368",
   "metadata": {},
   "outputs": [],
   "source": [
    "import numpy as np\n",
    "import pandas as pd\n",
    "import matplotlib.pyplot as plt\n",
    "from sklearn.model_selection import train_test_split\n",
    "from sklearn.ensemble import RandomForestClassifier\n",
    "from sklearn.metrics import accuracy_score, precision_score, recall_score, f1_score\n",
    "from sklearn.preprocessing import StandardScaler\n",
    "from sklearn.utils import resample"
   ]
  },
  {
   "cell_type": "code",
   "execution_count": 2,
   "id": "bd582854",
   "metadata": {},
   "outputs": [],
   "source": [
    "# Load the financial transaction dataset\n",
    "transaction_data = pd.read_csv(\"C:/Users/madin/Desktop/TASK2/financial_transaction_data.csv\")"
   ]
  },
  {
   "cell_type": "code",
   "execution_count": 3,
   "id": "b3641a48",
   "metadata": {},
   "outputs": [
    {
     "data": {
      "text/html": [
       "<div>\n",
       "<style scoped>\n",
       "    .dataframe tbody tr th:only-of-type {\n",
       "        vertical-align: middle;\n",
       "    }\n",
       "\n",
       "    .dataframe tbody tr th {\n",
       "        vertical-align: top;\n",
       "    }\n",
       "\n",
       "    .dataframe thead th {\n",
       "        text-align: right;\n",
       "    }\n",
       "</style>\n",
       "<table border=\"1\" class=\"dataframe\">\n",
       "  <thead>\n",
       "    <tr style=\"text-align: right;\">\n",
       "      <th></th>\n",
       "      <th>Time</th>\n",
       "      <th>V1</th>\n",
       "      <th>V2</th>\n",
       "      <th>V3</th>\n",
       "      <th>V4</th>\n",
       "      <th>V5</th>\n",
       "      <th>V6</th>\n",
       "      <th>V7</th>\n",
       "      <th>V8</th>\n",
       "      <th>V9</th>\n",
       "      <th>...</th>\n",
       "      <th>V21</th>\n",
       "      <th>V22</th>\n",
       "      <th>V23</th>\n",
       "      <th>V24</th>\n",
       "      <th>V25</th>\n",
       "      <th>V26</th>\n",
       "      <th>V27</th>\n",
       "      <th>V28</th>\n",
       "      <th>Amount</th>\n",
       "      <th>Fraudulent</th>\n",
       "    </tr>\n",
       "  </thead>\n",
       "  <tbody>\n",
       "    <tr>\n",
       "      <th>0</th>\n",
       "      <td>0.0</td>\n",
       "      <td>-1.359807</td>\n",
       "      <td>-0.072781</td>\n",
       "      <td>2.536347</td>\n",
       "      <td>1.378155</td>\n",
       "      <td>-0.338321</td>\n",
       "      <td>0.462388</td>\n",
       "      <td>0.239599</td>\n",
       "      <td>0.098698</td>\n",
       "      <td>0.363787</td>\n",
       "      <td>...</td>\n",
       "      <td>-0.018307</td>\n",
       "      <td>0.277838</td>\n",
       "      <td>-0.110474</td>\n",
       "      <td>0.066928</td>\n",
       "      <td>0.128539</td>\n",
       "      <td>-0.189115</td>\n",
       "      <td>0.133558</td>\n",
       "      <td>-0.021053</td>\n",
       "      <td>149.62</td>\n",
       "      <td>0</td>\n",
       "    </tr>\n",
       "    <tr>\n",
       "      <th>1</th>\n",
       "      <td>0.0</td>\n",
       "      <td>1.191857</td>\n",
       "      <td>0.266151</td>\n",
       "      <td>0.166480</td>\n",
       "      <td>0.448154</td>\n",
       "      <td>0.060018</td>\n",
       "      <td>-0.082361</td>\n",
       "      <td>-0.078803</td>\n",
       "      <td>0.085102</td>\n",
       "      <td>-0.255425</td>\n",
       "      <td>...</td>\n",
       "      <td>-0.225775</td>\n",
       "      <td>-0.638672</td>\n",
       "      <td>0.101288</td>\n",
       "      <td>-0.339846</td>\n",
       "      <td>0.167170</td>\n",
       "      <td>0.125895</td>\n",
       "      <td>-0.008983</td>\n",
       "      <td>0.014724</td>\n",
       "      <td>2.69</td>\n",
       "      <td>0</td>\n",
       "    </tr>\n",
       "    <tr>\n",
       "      <th>2</th>\n",
       "      <td>1.0</td>\n",
       "      <td>-1.358354</td>\n",
       "      <td>-1.340163</td>\n",
       "      <td>1.773209</td>\n",
       "      <td>0.379780</td>\n",
       "      <td>-0.503198</td>\n",
       "      <td>1.800499</td>\n",
       "      <td>0.791461</td>\n",
       "      <td>0.247676</td>\n",
       "      <td>-1.514654</td>\n",
       "      <td>...</td>\n",
       "      <td>0.247998</td>\n",
       "      <td>0.771679</td>\n",
       "      <td>0.909412</td>\n",
       "      <td>-0.689281</td>\n",
       "      <td>-0.327642</td>\n",
       "      <td>-0.139097</td>\n",
       "      <td>-0.055353</td>\n",
       "      <td>-0.059752</td>\n",
       "      <td>378.66</td>\n",
       "      <td>0</td>\n",
       "    </tr>\n",
       "    <tr>\n",
       "      <th>3</th>\n",
       "      <td>1.0</td>\n",
       "      <td>-0.966272</td>\n",
       "      <td>-0.185226</td>\n",
       "      <td>1.792993</td>\n",
       "      <td>-0.863291</td>\n",
       "      <td>-0.010309</td>\n",
       "      <td>1.247203</td>\n",
       "      <td>0.237609</td>\n",
       "      <td>0.377436</td>\n",
       "      <td>-1.387024</td>\n",
       "      <td>...</td>\n",
       "      <td>-0.108300</td>\n",
       "      <td>0.005274</td>\n",
       "      <td>-0.190321</td>\n",
       "      <td>-1.175575</td>\n",
       "      <td>0.647376</td>\n",
       "      <td>-0.221929</td>\n",
       "      <td>0.062723</td>\n",
       "      <td>0.061458</td>\n",
       "      <td>123.50</td>\n",
       "      <td>0</td>\n",
       "    </tr>\n",
       "    <tr>\n",
       "      <th>4</th>\n",
       "      <td>2.0</td>\n",
       "      <td>-1.158233</td>\n",
       "      <td>0.877737</td>\n",
       "      <td>1.548718</td>\n",
       "      <td>0.403034</td>\n",
       "      <td>-0.407193</td>\n",
       "      <td>0.095921</td>\n",
       "      <td>0.592941</td>\n",
       "      <td>-0.270533</td>\n",
       "      <td>0.817739</td>\n",
       "      <td>...</td>\n",
       "      <td>-0.009431</td>\n",
       "      <td>0.798278</td>\n",
       "      <td>-0.137458</td>\n",
       "      <td>0.141267</td>\n",
       "      <td>-0.206010</td>\n",
       "      <td>0.502292</td>\n",
       "      <td>0.219422</td>\n",
       "      <td>0.215153</td>\n",
       "      <td>69.99</td>\n",
       "      <td>0</td>\n",
       "    </tr>\n",
       "  </tbody>\n",
       "</table>\n",
       "<p>5 rows × 31 columns</p>\n",
       "</div>"
      ],
      "text/plain": [
       "   Time        V1        V2        V3        V4        V5        V6        V7  \\\n",
       "0   0.0 -1.359807 -0.072781  2.536347  1.378155 -0.338321  0.462388  0.239599   \n",
       "1   0.0  1.191857  0.266151  0.166480  0.448154  0.060018 -0.082361 -0.078803   \n",
       "2   1.0 -1.358354 -1.340163  1.773209  0.379780 -0.503198  1.800499  0.791461   \n",
       "3   1.0 -0.966272 -0.185226  1.792993 -0.863291 -0.010309  1.247203  0.237609   \n",
       "4   2.0 -1.158233  0.877737  1.548718  0.403034 -0.407193  0.095921  0.592941   \n",
       "\n",
       "         V8        V9  ...       V21       V22       V23       V24       V25  \\\n",
       "0  0.098698  0.363787  ... -0.018307  0.277838 -0.110474  0.066928  0.128539   \n",
       "1  0.085102 -0.255425  ... -0.225775 -0.638672  0.101288 -0.339846  0.167170   \n",
       "2  0.247676 -1.514654  ...  0.247998  0.771679  0.909412 -0.689281 -0.327642   \n",
       "3  0.377436 -1.387024  ... -0.108300  0.005274 -0.190321 -1.175575  0.647376   \n",
       "4 -0.270533  0.817739  ... -0.009431  0.798278 -0.137458  0.141267 -0.206010   \n",
       "\n",
       "        V26       V27       V28  Amount  Fraudulent  \n",
       "0 -0.189115  0.133558 -0.021053  149.62           0  \n",
       "1  0.125895 -0.008983  0.014724    2.69           0  \n",
       "2 -0.139097 -0.055353 -0.059752  378.66           0  \n",
       "3 -0.221929  0.062723  0.061458  123.50           0  \n",
       "4  0.502292  0.219422  0.215153   69.99           0  \n",
       "\n",
       "[5 rows x 31 columns]"
      ]
     },
     "execution_count": 3,
     "metadata": {},
     "output_type": "execute_result"
    }
   ],
   "source": [
    "# Display the first 5 rows of the dataset\n",
    "transaction_data.head()"
   ]
  },
  {
   "cell_type": "code",
   "execution_count": 4,
   "id": "4e9d4399",
   "metadata": {},
   "outputs": [
    {
     "name": "stdout",
     "output_type": "stream",
     "text": [
      "<class 'pandas.core.frame.DataFrame'>\n",
      "RangeIndex: 199999 entries, 0 to 199998\n",
      "Data columns (total 31 columns):\n",
      " #   Column      Non-Null Count   Dtype  \n",
      "---  ------      --------------   -----  \n",
      " 0   Time        199999 non-null  float64\n",
      " 1   V1          199999 non-null  float64\n",
      " 2   V2          199999 non-null  float64\n",
      " 3   V3          199999 non-null  float64\n",
      " 4   V4          199999 non-null  float64\n",
      " 5   V5          199999 non-null  float64\n",
      " 6   V6          199999 non-null  float64\n",
      " 7   V7          199999 non-null  float64\n",
      " 8   V8          199999 non-null  float64\n",
      " 9   V9          199999 non-null  float64\n",
      " 10  V10         199999 non-null  float64\n",
      " 11  V11         199999 non-null  float64\n",
      " 12  V12         199999 non-null  float64\n",
      " 13  V13         199999 non-null  float64\n",
      " 14  V14         199999 non-null  float64\n",
      " 15  V15         199999 non-null  float64\n",
      " 16  V16         199999 non-null  float64\n",
      " 17  V17         199999 non-null  float64\n",
      " 18  V18         199999 non-null  float64\n",
      " 19  V19         199999 non-null  float64\n",
      " 20  V20         199999 non-null  float64\n",
      " 21  V21         199999 non-null  float64\n",
      " 22  V22         199999 non-null  float64\n",
      " 23  V23         199999 non-null  float64\n",
      " 24  V24         199999 non-null  float64\n",
      " 25  V25         199999 non-null  float64\n",
      " 26  V26         199999 non-null  float64\n",
      " 27  V27         199999 non-null  float64\n",
      " 28  V28         199999 non-null  float64\n",
      " 29  Amount      199999 non-null  float64\n",
      " 30  Fraudulent  199999 non-null  int64  \n",
      "dtypes: float64(30), int64(1)\n",
      "memory usage: 47.3 MB\n"
     ]
    }
   ],
   "source": [
    "# Dataset information\n",
    "transaction_data.info()"
   ]
  },
  {
   "cell_type": "code",
   "execution_count": 5,
   "id": "f704f8a6",
   "metadata": {},
   "outputs": [
    {
     "data": {
      "text/plain": [
       "Time          0\n",
       "V1            0\n",
       "V2            0\n",
       "V3            0\n",
       "V4            0\n",
       "V5            0\n",
       "V6            0\n",
       "V7            0\n",
       "V8            0\n",
       "V9            0\n",
       "V10           0\n",
       "V11           0\n",
       "V12           0\n",
       "V13           0\n",
       "V14           0\n",
       "V15           0\n",
       "V16           0\n",
       "V17           0\n",
       "V18           0\n",
       "V19           0\n",
       "V20           0\n",
       "V21           0\n",
       "V22           0\n",
       "V23           0\n",
       "V24           0\n",
       "V25           0\n",
       "V26           0\n",
       "V27           0\n",
       "V28           0\n",
       "Amount        0\n",
       "Fraudulent    0\n",
       "dtype: int64"
      ]
     },
     "execution_count": 5,
     "metadata": {},
     "output_type": "execute_result"
    }
   ],
   "source": [
    "# Check for missing values in each column\n",
    "transaction_data.isnull().sum()"
   ]
  },
  {
   "cell_type": "code",
   "execution_count": 6,
   "id": "539d165b",
   "metadata": {},
   "outputs": [
    {
     "data": {
      "text/plain": [
       "0    199614\n",
       "1       385\n",
       "Name: Fraudulent, dtype: int64"
      ]
     },
     "execution_count": 6,
     "metadata": {},
     "output_type": "execute_result"
    }
   ],
   "source": [
    "# Explore the distribution of legitimate and fraudulent transactions\n",
    "transaction_data['Fraudulent'].value_counts()"
   ]
  },
  {
   "cell_type": "code",
   "execution_count": 7,
   "id": "c37de829",
   "metadata": {},
   "outputs": [],
   "source": [
    "# Separate the data for analysis\n",
    "legitimate = transaction_data[transaction_data.Fraudulent == 0]\n",
    "fraudulent = transaction_data[transaction_data.Fraudulent == 1]"
   ]
  },
  {
   "cell_type": "code",
   "execution_count": 8,
   "id": "bff15ce4",
   "metadata": {},
   "outputs": [
    {
     "name": "stdout",
     "output_type": "stream",
     "text": [
      "(199614, 31)\n",
      "(385, 31)\n"
     ]
    }
   ],
   "source": [
    "print(legitimate.shape)\n",
    "print(fraudulent.shape)"
   ]
  },
  {
   "cell_type": "code",
   "execution_count": 9,
   "id": "d22a7dbb",
   "metadata": {},
   "outputs": [
    {
     "data": {
      "text/plain": [
       "count    199614.000000\n",
       "mean         89.706986\n",
       "std         248.732038\n",
       "min           0.000000\n",
       "25%           5.990000\n",
       "50%          23.000000\n",
       "75%          79.190000\n",
       "max       19656.530000\n",
       "Name: Amount, dtype: float64"
      ]
     },
     "execution_count": 9,
     "metadata": {},
     "output_type": "execute_result"
    }
   ],
   "source": [
    "# Statistical measures of the data for legitimate transactions\n",
    "legitimate.Amount.describe()"
   ]
  },
  {
   "cell_type": "code",
   "execution_count": 10,
   "id": "1eb59cbb",
   "metadata": {},
   "outputs": [
    {
     "data": {
      "text/plain": [
       "count     385.000000\n",
       "mean      121.808805\n",
       "std       256.061414\n",
       "min         0.000000\n",
       "25%         1.000000\n",
       "50%        12.310000\n",
       "75%       104.810000\n",
       "max      2125.870000\n",
       "Name: Amount, dtype: float64"
      ]
     },
     "execution_count": 10,
     "metadata": {},
     "output_type": "execute_result"
    }
   ],
   "source": [
    "# Statistical measures of the data for fraudulent transactions\n",
    "fraudulent.Amount.describe()"
   ]
  },
  {
   "cell_type": "code",
   "execution_count": 11,
   "id": "360e1a76",
   "metadata": {},
   "outputs": [
    {
     "data": {
      "text/html": [
       "<div>\n",
       "<style scoped>\n",
       "    .dataframe tbody tr th:only-of-type {\n",
       "        vertical-align: middle;\n",
       "    }\n",
       "\n",
       "    .dataframe tbody tr th {\n",
       "        vertical-align: top;\n",
       "    }\n",
       "\n",
       "    .dataframe thead th {\n",
       "        text-align: right;\n",
       "    }\n",
       "</style>\n",
       "<table border=\"1\" class=\"dataframe\">\n",
       "  <thead>\n",
       "    <tr style=\"text-align: right;\">\n",
       "      <th></th>\n",
       "      <th>Time</th>\n",
       "      <th>V1</th>\n",
       "      <th>V2</th>\n",
       "      <th>V3</th>\n",
       "      <th>V4</th>\n",
       "      <th>V5</th>\n",
       "      <th>V6</th>\n",
       "      <th>V7</th>\n",
       "      <th>V8</th>\n",
       "      <th>V9</th>\n",
       "      <th>...</th>\n",
       "      <th>V20</th>\n",
       "      <th>V21</th>\n",
       "      <th>V22</th>\n",
       "      <th>V23</th>\n",
       "      <th>V24</th>\n",
       "      <th>V25</th>\n",
       "      <th>V26</th>\n",
       "      <th>V27</th>\n",
       "      <th>V28</th>\n",
       "      <th>Amount</th>\n",
       "    </tr>\n",
       "    <tr>\n",
       "      <th>Fraudulent</th>\n",
       "      <th></th>\n",
       "      <th></th>\n",
       "      <th></th>\n",
       "      <th></th>\n",
       "      <th></th>\n",
       "      <th></th>\n",
       "      <th></th>\n",
       "      <th></th>\n",
       "      <th></th>\n",
       "      <th></th>\n",
       "      <th></th>\n",
       "      <th></th>\n",
       "      <th></th>\n",
       "      <th></th>\n",
       "      <th></th>\n",
       "      <th></th>\n",
       "      <th></th>\n",
       "      <th></th>\n",
       "      <th></th>\n",
       "      <th></th>\n",
       "      <th></th>\n",
       "    </tr>\n",
       "  </thead>\n",
       "  <tbody>\n",
       "    <tr>\n",
       "      <th>0</th>\n",
       "      <td>70661.338629</td>\n",
       "      <td>-0.094060</td>\n",
       "      <td>-0.004916</td>\n",
       "      <td>0.332876</td>\n",
       "      <td>0.065404</td>\n",
       "      <td>-0.103028</td>\n",
       "      <td>0.048401</td>\n",
       "      <td>-0.037489</td>\n",
       "      <td>0.015333</td>\n",
       "      <td>0.014286</td>\n",
       "      <td>...</td>\n",
       "      <td>0.018688</td>\n",
       "      <td>-0.016251</td>\n",
       "      <td>-0.047323</td>\n",
       "      <td>-0.015355</td>\n",
       "      <td>0.004285</td>\n",
       "      <td>0.060363</td>\n",
       "      <td>0.006005</td>\n",
       "      <td>0.001292</td>\n",
       "      <td>0.001722</td>\n",
       "      <td>89.706986</td>\n",
       "    </tr>\n",
       "    <tr>\n",
       "      <th>1</th>\n",
       "      <td>61286.968831</td>\n",
       "      <td>-5.697855</td>\n",
       "      <td>4.197893</td>\n",
       "      <td>-7.727879</td>\n",
       "      <td>4.758152</td>\n",
       "      <td>-4.090343</td>\n",
       "      <td>-1.409713</td>\n",
       "      <td>-6.624255</td>\n",
       "      <td>0.684653</td>\n",
       "      <td>-2.761479</td>\n",
       "      <td>...</td>\n",
       "      <td>0.390145</td>\n",
       "      <td>0.791049</td>\n",
       "      <td>-0.022175</td>\n",
       "      <td>-0.054605</td>\n",
       "      <td>-0.070451</td>\n",
       "      <td>0.070767</td>\n",
       "      <td>0.036967</td>\n",
       "      <td>0.177042</td>\n",
       "      <td>0.057351</td>\n",
       "      <td>121.808805</td>\n",
       "    </tr>\n",
       "  </tbody>\n",
       "</table>\n",
       "<p>2 rows × 30 columns</p>\n",
       "</div>"
      ],
      "text/plain": [
       "                    Time        V1        V2        V3        V4        V5  \\\n",
       "Fraudulent                                                                   \n",
       "0           70661.338629 -0.094060 -0.004916  0.332876  0.065404 -0.103028   \n",
       "1           61286.968831 -5.697855  4.197893 -7.727879  4.758152 -4.090343   \n",
       "\n",
       "                  V6        V7        V8        V9  ...       V20       V21  \\\n",
       "Fraudulent                                          ...                       \n",
       "0           0.048401 -0.037489  0.015333  0.014286  ...  0.018688 -0.016251   \n",
       "1          -1.409713 -6.624255  0.684653 -2.761479  ...  0.390145  0.791049   \n",
       "\n",
       "                 V22       V23       V24       V25       V26       V27  \\\n",
       "Fraudulent                                                               \n",
       "0          -0.047323 -0.015355  0.004285  0.060363  0.006005  0.001292   \n",
       "1          -0.022175 -0.054605 -0.070451  0.070767  0.036967  0.177042   \n",
       "\n",
       "                 V28      Amount  \n",
       "Fraudulent                        \n",
       "0           0.001722   89.706986  \n",
       "1           0.057351  121.808805  \n",
       "\n",
       "[2 rows x 30 columns]"
      ]
     },
     "execution_count": 11,
     "metadata": {},
     "output_type": "execute_result"
    }
   ],
   "source": [
    "# Compare the values for both types of transactions\n",
    "transaction_data.groupby('Fraudulent').mean()"
   ]
  },
  {
   "cell_type": "markdown",
   "id": "34374f17",
   "metadata": {},
   "source": [
    "# Create a subsample dataset that mirrors the distribution of regular and fraudulent transactions.\n",
    "\n",
    "## Number of Fraudulent Transactions: 492 "
   ]
  },
  {
   "cell_type": "code",
   "execution_count": 12,
   "id": "39a34732",
   "metadata": {},
   "outputs": [],
   "source": [
    "legitimate_sample = legitimate.sample(n=492)"
   ]
  },
  {
   "cell_type": "markdown",
   "id": "c2e3d533",
   "metadata": {},
   "source": [
    "# Concatenate two Dataframes"
   ]
  },
  {
   "cell_type": "code",
   "execution_count": 13,
   "id": "03a7cbbc",
   "metadata": {},
   "outputs": [],
   "source": [
    "balanced_dataset = pd.concat([legitimate_sample, fraudulent], axis=0)"
   ]
  },
  {
   "cell_type": "code",
   "execution_count": 14,
   "id": "0290b1ab",
   "metadata": {},
   "outputs": [
    {
     "data": {
      "text/html": [
       "<div>\n",
       "<style scoped>\n",
       "    .dataframe tbody tr th:only-of-type {\n",
       "        vertical-align: middle;\n",
       "    }\n",
       "\n",
       "    .dataframe tbody tr th {\n",
       "        vertical-align: top;\n",
       "    }\n",
       "\n",
       "    .dataframe thead th {\n",
       "        text-align: right;\n",
       "    }\n",
       "</style>\n",
       "<table border=\"1\" class=\"dataframe\">\n",
       "  <thead>\n",
       "    <tr style=\"text-align: right;\">\n",
       "      <th></th>\n",
       "      <th>Time</th>\n",
       "      <th>V1</th>\n",
       "      <th>V2</th>\n",
       "      <th>V3</th>\n",
       "      <th>V4</th>\n",
       "      <th>V5</th>\n",
       "      <th>V6</th>\n",
       "      <th>V7</th>\n",
       "      <th>V8</th>\n",
       "      <th>V9</th>\n",
       "      <th>...</th>\n",
       "      <th>V21</th>\n",
       "      <th>V22</th>\n",
       "      <th>V23</th>\n",
       "      <th>V24</th>\n",
       "      <th>V25</th>\n",
       "      <th>V26</th>\n",
       "      <th>V27</th>\n",
       "      <th>V28</th>\n",
       "      <th>Amount</th>\n",
       "      <th>Fraudulent</th>\n",
       "    </tr>\n",
       "  </thead>\n",
       "  <tbody>\n",
       "    <tr>\n",
       "      <th>2535</th>\n",
       "      <td>2098.0</td>\n",
       "      <td>-0.445649</td>\n",
       "      <td>0.462053</td>\n",
       "      <td>1.050359</td>\n",
       "      <td>-2.180048</td>\n",
       "      <td>0.231165</td>\n",
       "      <td>-0.758195</td>\n",
       "      <td>0.851403</td>\n",
       "      <td>-0.038639</td>\n",
       "      <td>0.886613</td>\n",
       "      <td>...</td>\n",
       "      <td>0.115612</td>\n",
       "      <td>0.610118</td>\n",
       "      <td>-0.254144</td>\n",
       "      <td>-0.033585</td>\n",
       "      <td>-0.100171</td>\n",
       "      <td>-0.820068</td>\n",
       "      <td>0.237875</td>\n",
       "      <td>-0.031779</td>\n",
       "      <td>1.00</td>\n",
       "      <td>0</td>\n",
       "    </tr>\n",
       "    <tr>\n",
       "      <th>123311</th>\n",
       "      <td>76880.0</td>\n",
       "      <td>0.985471</td>\n",
       "      <td>-0.034260</td>\n",
       "      <td>0.442119</td>\n",
       "      <td>1.375254</td>\n",
       "      <td>-0.244245</td>\n",
       "      <td>0.052990</td>\n",
       "      <td>0.058077</td>\n",
       "      <td>0.098685</td>\n",
       "      <td>-0.000555</td>\n",
       "      <td>...</td>\n",
       "      <td>0.002335</td>\n",
       "      <td>0.065717</td>\n",
       "      <td>-0.105851</td>\n",
       "      <td>0.250054</td>\n",
       "      <td>0.585122</td>\n",
       "      <td>-0.349836</td>\n",
       "      <td>0.024828</td>\n",
       "      <td>0.019079</td>\n",
       "      <td>71.62</td>\n",
       "      <td>0</td>\n",
       "    </tr>\n",
       "    <tr>\n",
       "      <th>122902</th>\n",
       "      <td>76736.0</td>\n",
       "      <td>-1.876296</td>\n",
       "      <td>1.464179</td>\n",
       "      <td>-0.391039</td>\n",
       "      <td>-0.053657</td>\n",
       "      <td>0.194824</td>\n",
       "      <td>0.389521</td>\n",
       "      <td>-0.274214</td>\n",
       "      <td>1.443834</td>\n",
       "      <td>-1.222272</td>\n",
       "      <td>...</td>\n",
       "      <td>0.406475</td>\n",
       "      <td>0.853111</td>\n",
       "      <td>0.141538</td>\n",
       "      <td>-0.573763</td>\n",
       "      <td>-0.584592</td>\n",
       "      <td>0.499296</td>\n",
       "      <td>-0.458055</td>\n",
       "      <td>-0.130239</td>\n",
       "      <td>1.00</td>\n",
       "      <td>0</td>\n",
       "    </tr>\n",
       "    <tr>\n",
       "      <th>128228</th>\n",
       "      <td>78641.0</td>\n",
       "      <td>-1.021325</td>\n",
       "      <td>0.488249</td>\n",
       "      <td>1.517893</td>\n",
       "      <td>-1.677494</td>\n",
       "      <td>-0.428086</td>\n",
       "      <td>-0.480524</td>\n",
       "      <td>-0.011171</td>\n",
       "      <td>0.401551</td>\n",
       "      <td>-1.605317</td>\n",
       "      <td>...</td>\n",
       "      <td>0.148188</td>\n",
       "      <td>0.264412</td>\n",
       "      <td>-0.253941</td>\n",
       "      <td>0.119922</td>\n",
       "      <td>0.535924</td>\n",
       "      <td>-0.313361</td>\n",
       "      <td>-0.080105</td>\n",
       "      <td>-0.025627</td>\n",
       "      <td>11.95</td>\n",
       "      <td>0</td>\n",
       "    </tr>\n",
       "    <tr>\n",
       "      <th>49911</th>\n",
       "      <td>44263.0</td>\n",
       "      <td>0.652443</td>\n",
       "      <td>-1.642181</td>\n",
       "      <td>1.417921</td>\n",
       "      <td>-0.494876</td>\n",
       "      <td>-1.225030</td>\n",
       "      <td>2.487110</td>\n",
       "      <td>-1.631113</td>\n",
       "      <td>1.061594</td>\n",
       "      <td>2.901805</td>\n",
       "      <td>...</td>\n",
       "      <td>0.340124</td>\n",
       "      <td>1.359523</td>\n",
       "      <td>-0.197490</td>\n",
       "      <td>-0.959563</td>\n",
       "      <td>0.265456</td>\n",
       "      <td>-0.287089</td>\n",
       "      <td>0.183371</td>\n",
       "      <td>0.035786</td>\n",
       "      <td>146.21</td>\n",
       "      <td>0</td>\n",
       "    </tr>\n",
       "  </tbody>\n",
       "</table>\n",
       "<p>5 rows × 31 columns</p>\n",
       "</div>"
      ],
      "text/plain": [
       "           Time        V1        V2        V3        V4        V5        V6  \\\n",
       "2535     2098.0 -0.445649  0.462053  1.050359 -2.180048  0.231165 -0.758195   \n",
       "123311  76880.0  0.985471 -0.034260  0.442119  1.375254 -0.244245  0.052990   \n",
       "122902  76736.0 -1.876296  1.464179 -0.391039 -0.053657  0.194824  0.389521   \n",
       "128228  78641.0 -1.021325  0.488249  1.517893 -1.677494 -0.428086 -0.480524   \n",
       "49911   44263.0  0.652443 -1.642181  1.417921 -0.494876 -1.225030  2.487110   \n",
       "\n",
       "              V7        V8        V9  ...       V21       V22       V23  \\\n",
       "2535    0.851403 -0.038639  0.886613  ...  0.115612  0.610118 -0.254144   \n",
       "123311  0.058077  0.098685 -0.000555  ...  0.002335  0.065717 -0.105851   \n",
       "122902 -0.274214  1.443834 -1.222272  ...  0.406475  0.853111  0.141538   \n",
       "128228 -0.011171  0.401551 -1.605317  ...  0.148188  0.264412 -0.253941   \n",
       "49911  -1.631113  1.061594  2.901805  ...  0.340124  1.359523 -0.197490   \n",
       "\n",
       "             V24       V25       V26       V27       V28  Amount  Fraudulent  \n",
       "2535   -0.033585 -0.100171 -0.820068  0.237875 -0.031779    1.00           0  \n",
       "123311  0.250054  0.585122 -0.349836  0.024828  0.019079   71.62           0  \n",
       "122902 -0.573763 -0.584592  0.499296 -0.458055 -0.130239    1.00           0  \n",
       "128228  0.119922  0.535924 -0.313361 -0.080105 -0.025627   11.95           0  \n",
       "49911  -0.959563  0.265456 -0.287089  0.183371  0.035786  146.21           0  \n",
       "\n",
       "[5 rows x 31 columns]"
      ]
     },
     "execution_count": 14,
     "metadata": {},
     "output_type": "execute_result"
    }
   ],
   "source": [
    "balanced_dataset.head()"
   ]
  },
  {
   "cell_type": "code",
   "execution_count": 15,
   "id": "034606e0",
   "metadata": {},
   "outputs": [
    {
     "data": {
      "text/html": [
       "<div>\n",
       "<style scoped>\n",
       "    .dataframe tbody tr th:only-of-type {\n",
       "        vertical-align: middle;\n",
       "    }\n",
       "\n",
       "    .dataframe tbody tr th {\n",
       "        vertical-align: top;\n",
       "    }\n",
       "\n",
       "    .dataframe thead th {\n",
       "        text-align: right;\n",
       "    }\n",
       "</style>\n",
       "<table border=\"1\" class=\"dataframe\">\n",
       "  <thead>\n",
       "    <tr style=\"text-align: right;\">\n",
       "      <th></th>\n",
       "      <th>Time</th>\n",
       "      <th>V1</th>\n",
       "      <th>V2</th>\n",
       "      <th>V3</th>\n",
       "      <th>V4</th>\n",
       "      <th>V5</th>\n",
       "      <th>V6</th>\n",
       "      <th>V7</th>\n",
       "      <th>V8</th>\n",
       "      <th>V9</th>\n",
       "      <th>...</th>\n",
       "      <th>V21</th>\n",
       "      <th>V22</th>\n",
       "      <th>V23</th>\n",
       "      <th>V24</th>\n",
       "      <th>V25</th>\n",
       "      <th>V26</th>\n",
       "      <th>V27</th>\n",
       "      <th>V28</th>\n",
       "      <th>Amount</th>\n",
       "      <th>Fraudulent</th>\n",
       "    </tr>\n",
       "  </thead>\n",
       "  <tbody>\n",
       "    <tr>\n",
       "      <th>192687</th>\n",
       "      <td>129808.0</td>\n",
       "      <td>1.522080</td>\n",
       "      <td>-0.519429</td>\n",
       "      <td>-2.581685</td>\n",
       "      <td>0.774741</td>\n",
       "      <td>0.206722</td>\n",
       "      <td>-1.431020</td>\n",
       "      <td>0.757011</td>\n",
       "      <td>-0.444418</td>\n",
       "      <td>0.997921</td>\n",
       "      <td>...</td>\n",
       "      <td>0.019649</td>\n",
       "      <td>-0.211678</td>\n",
       "      <td>-0.247452</td>\n",
       "      <td>-0.279472</td>\n",
       "      <td>0.239646</td>\n",
       "      <td>-0.508398</td>\n",
       "      <td>-0.015551</td>\n",
       "      <td>0.041881</td>\n",
       "      <td>276.17</td>\n",
       "      <td>1</td>\n",
       "    </tr>\n",
       "    <tr>\n",
       "      <th>195383</th>\n",
       "      <td>131024.0</td>\n",
       "      <td>0.469750</td>\n",
       "      <td>-1.237555</td>\n",
       "      <td>-1.767341</td>\n",
       "      <td>4.833490</td>\n",
       "      <td>-0.268715</td>\n",
       "      <td>-0.512760</td>\n",
       "      <td>1.140149</td>\n",
       "      <td>-0.341273</td>\n",
       "      <td>-1.046351</td>\n",
       "      <td>...</td>\n",
       "      <td>0.303905</td>\n",
       "      <td>-0.647075</td>\n",
       "      <td>-0.373014</td>\n",
       "      <td>0.260801</td>\n",
       "      <td>-0.496566</td>\n",
       "      <td>-0.245973</td>\n",
       "      <td>-0.117858</td>\n",
       "      <td>0.144774</td>\n",
       "      <td>723.21</td>\n",
       "      <td>1</td>\n",
       "    </tr>\n",
       "    <tr>\n",
       "      <th>197586</th>\n",
       "      <td>132086.0</td>\n",
       "      <td>-0.361428</td>\n",
       "      <td>1.133472</td>\n",
       "      <td>-2.971360</td>\n",
       "      <td>-0.283073</td>\n",
       "      <td>0.371452</td>\n",
       "      <td>-0.574680</td>\n",
       "      <td>4.031513</td>\n",
       "      <td>-0.934398</td>\n",
       "      <td>-0.768255</td>\n",
       "      <td>...</td>\n",
       "      <td>0.110815</td>\n",
       "      <td>0.563861</td>\n",
       "      <td>-0.408436</td>\n",
       "      <td>-0.880079</td>\n",
       "      <td>1.408392</td>\n",
       "      <td>-0.137402</td>\n",
       "      <td>-0.001250</td>\n",
       "      <td>-0.182751</td>\n",
       "      <td>480.72</td>\n",
       "      <td>1</td>\n",
       "    </tr>\n",
       "    <tr>\n",
       "      <th>198868</th>\n",
       "      <td>132688.0</td>\n",
       "      <td>0.432554</td>\n",
       "      <td>1.861373</td>\n",
       "      <td>-4.310353</td>\n",
       "      <td>2.448080</td>\n",
       "      <td>4.574094</td>\n",
       "      <td>-2.979912</td>\n",
       "      <td>-2.792379</td>\n",
       "      <td>-2.719867</td>\n",
       "      <td>-0.276704</td>\n",
       "      <td>...</td>\n",
       "      <td>-1.384477</td>\n",
       "      <td>-0.348904</td>\n",
       "      <td>-3.979948</td>\n",
       "      <td>-0.828156</td>\n",
       "      <td>-2.419446</td>\n",
       "      <td>-0.767070</td>\n",
       "      <td>0.387039</td>\n",
       "      <td>0.319402</td>\n",
       "      <td>1.00</td>\n",
       "      <td>1</td>\n",
       "    </tr>\n",
       "    <tr>\n",
       "      <th>199896</th>\n",
       "      <td>133184.0</td>\n",
       "      <td>-1.212682</td>\n",
       "      <td>-2.484824</td>\n",
       "      <td>-6.397186</td>\n",
       "      <td>3.670562</td>\n",
       "      <td>-0.863375</td>\n",
       "      <td>-1.855855</td>\n",
       "      <td>1.017732</td>\n",
       "      <td>-0.544704</td>\n",
       "      <td>-1.703378</td>\n",
       "      <td>...</td>\n",
       "      <td>1.396872</td>\n",
       "      <td>0.092073</td>\n",
       "      <td>-1.492882</td>\n",
       "      <td>-0.204227</td>\n",
       "      <td>0.532511</td>\n",
       "      <td>-0.293871</td>\n",
       "      <td>0.212663</td>\n",
       "      <td>0.431095</td>\n",
       "      <td>1335.00</td>\n",
       "      <td>1</td>\n",
       "    </tr>\n",
       "  </tbody>\n",
       "</table>\n",
       "<p>5 rows × 31 columns</p>\n",
       "</div>"
      ],
      "text/plain": [
       "            Time        V1        V2        V3        V4        V5        V6  \\\n",
       "192687  129808.0  1.522080 -0.519429 -2.581685  0.774741  0.206722 -1.431020   \n",
       "195383  131024.0  0.469750 -1.237555 -1.767341  4.833490 -0.268715 -0.512760   \n",
       "197586  132086.0 -0.361428  1.133472 -2.971360 -0.283073  0.371452 -0.574680   \n",
       "198868  132688.0  0.432554  1.861373 -4.310353  2.448080  4.574094 -2.979912   \n",
       "199896  133184.0 -1.212682 -2.484824 -6.397186  3.670562 -0.863375 -1.855855   \n",
       "\n",
       "              V7        V8        V9  ...       V21       V22       V23  \\\n",
       "192687  0.757011 -0.444418  0.997921  ...  0.019649 -0.211678 -0.247452   \n",
       "195383  1.140149 -0.341273 -1.046351  ...  0.303905 -0.647075 -0.373014   \n",
       "197586  4.031513 -0.934398 -0.768255  ...  0.110815  0.563861 -0.408436   \n",
       "198868 -2.792379 -2.719867 -0.276704  ... -1.384477 -0.348904 -3.979948   \n",
       "199896  1.017732 -0.544704 -1.703378  ...  1.396872  0.092073 -1.492882   \n",
       "\n",
       "             V24       V25       V26       V27       V28   Amount  Fraudulent  \n",
       "192687 -0.279472  0.239646 -0.508398 -0.015551  0.041881   276.17           1  \n",
       "195383  0.260801 -0.496566 -0.245973 -0.117858  0.144774   723.21           1  \n",
       "197586 -0.880079  1.408392 -0.137402 -0.001250 -0.182751   480.72           1  \n",
       "198868 -0.828156 -2.419446 -0.767070  0.387039  0.319402     1.00           1  \n",
       "199896 -0.204227  0.532511 -0.293871  0.212663  0.431095  1335.00           1  \n",
       "\n",
       "[5 rows x 31 columns]"
      ]
     },
     "execution_count": 15,
     "metadata": {},
     "output_type": "execute_result"
    }
   ],
   "source": [
    "balanced_dataset.tail()"
   ]
  },
  {
   "cell_type": "code",
   "execution_count": 16,
   "id": "a5500e05",
   "metadata": {},
   "outputs": [
    {
     "data": {
      "text/plain": [
       "0    492\n",
       "1    385\n",
       "Name: Fraudulent, dtype: int64"
      ]
     },
     "execution_count": 16,
     "metadata": {},
     "output_type": "execute_result"
    }
   ],
   "source": [
    "balanced_dataset['Fraudulent'].value_counts()"
   ]
  },
  {
   "cell_type": "code",
   "execution_count": 17,
   "id": "09a0dffe",
   "metadata": {},
   "outputs": [
    {
     "data": {
      "text/html": [
       "<div>\n",
       "<style scoped>\n",
       "    .dataframe tbody tr th:only-of-type {\n",
       "        vertical-align: middle;\n",
       "    }\n",
       "\n",
       "    .dataframe tbody tr th {\n",
       "        vertical-align: top;\n",
       "    }\n",
       "\n",
       "    .dataframe thead th {\n",
       "        text-align: right;\n",
       "    }\n",
       "</style>\n",
       "<table border=\"1\" class=\"dataframe\">\n",
       "  <thead>\n",
       "    <tr style=\"text-align: right;\">\n",
       "      <th></th>\n",
       "      <th>Time</th>\n",
       "      <th>V1</th>\n",
       "      <th>V2</th>\n",
       "      <th>V3</th>\n",
       "      <th>V4</th>\n",
       "      <th>V5</th>\n",
       "      <th>V6</th>\n",
       "      <th>V7</th>\n",
       "      <th>V8</th>\n",
       "      <th>V9</th>\n",
       "      <th>...</th>\n",
       "      <th>V20</th>\n",
       "      <th>V21</th>\n",
       "      <th>V22</th>\n",
       "      <th>V23</th>\n",
       "      <th>V24</th>\n",
       "      <th>V25</th>\n",
       "      <th>V26</th>\n",
       "      <th>V27</th>\n",
       "      <th>V28</th>\n",
       "      <th>Amount</th>\n",
       "    </tr>\n",
       "    <tr>\n",
       "      <th>Fraudulent</th>\n",
       "      <th></th>\n",
       "      <th></th>\n",
       "      <th></th>\n",
       "      <th></th>\n",
       "      <th></th>\n",
       "      <th></th>\n",
       "      <th></th>\n",
       "      <th></th>\n",
       "      <th></th>\n",
       "      <th></th>\n",
       "      <th></th>\n",
       "      <th></th>\n",
       "      <th></th>\n",
       "      <th></th>\n",
       "      <th></th>\n",
       "      <th></th>\n",
       "      <th></th>\n",
       "      <th></th>\n",
       "      <th></th>\n",
       "      <th></th>\n",
       "      <th></th>\n",
       "    </tr>\n",
       "  </thead>\n",
       "  <tbody>\n",
       "    <tr>\n",
       "      <th>0</th>\n",
       "      <td>69354.601626</td>\n",
       "      <td>-0.022870</td>\n",
       "      <td>0.034631</td>\n",
       "      <td>0.294509</td>\n",
       "      <td>0.078043</td>\n",
       "      <td>-0.097687</td>\n",
       "      <td>0.076999</td>\n",
       "      <td>-0.096227</td>\n",
       "      <td>0.091290</td>\n",
       "      <td>0.075903</td>\n",
       "      <td>...</td>\n",
       "      <td>0.046293</td>\n",
       "      <td>-0.007609</td>\n",
       "      <td>-0.041223</td>\n",
       "      <td>-0.062541</td>\n",
       "      <td>-0.019993</td>\n",
       "      <td>0.065983</td>\n",
       "      <td>0.013934</td>\n",
       "      <td>0.014720</td>\n",
       "      <td>0.006661</td>\n",
       "      <td>89.446077</td>\n",
       "    </tr>\n",
       "    <tr>\n",
       "      <th>1</th>\n",
       "      <td>61286.968831</td>\n",
       "      <td>-5.697855</td>\n",
       "      <td>4.197893</td>\n",
       "      <td>-7.727879</td>\n",
       "      <td>4.758152</td>\n",
       "      <td>-4.090343</td>\n",
       "      <td>-1.409713</td>\n",
       "      <td>-6.624255</td>\n",
       "      <td>0.684653</td>\n",
       "      <td>-2.761479</td>\n",
       "      <td>...</td>\n",
       "      <td>0.390145</td>\n",
       "      <td>0.791049</td>\n",
       "      <td>-0.022175</td>\n",
       "      <td>-0.054605</td>\n",
       "      <td>-0.070451</td>\n",
       "      <td>0.070767</td>\n",
       "      <td>0.036967</td>\n",
       "      <td>0.177042</td>\n",
       "      <td>0.057351</td>\n",
       "      <td>121.808805</td>\n",
       "    </tr>\n",
       "  </tbody>\n",
       "</table>\n",
       "<p>2 rows × 30 columns</p>\n",
       "</div>"
      ],
      "text/plain": [
       "                    Time        V1        V2        V3        V4        V5  \\\n",
       "Fraudulent                                                                   \n",
       "0           69354.601626 -0.022870  0.034631  0.294509  0.078043 -0.097687   \n",
       "1           61286.968831 -5.697855  4.197893 -7.727879  4.758152 -4.090343   \n",
       "\n",
       "                  V6        V7        V8        V9  ...       V20       V21  \\\n",
       "Fraudulent                                          ...                       \n",
       "0           0.076999 -0.096227  0.091290  0.075903  ...  0.046293 -0.007609   \n",
       "1          -1.409713 -6.624255  0.684653 -2.761479  ...  0.390145  0.791049   \n",
       "\n",
       "                 V22       V23       V24       V25       V26       V27  \\\n",
       "Fraudulent                                                               \n",
       "0          -0.041223 -0.062541 -0.019993  0.065983  0.013934  0.014720   \n",
       "1          -0.022175 -0.054605 -0.070451  0.070767  0.036967  0.177042   \n",
       "\n",
       "                 V28      Amount  \n",
       "Fraudulent                        \n",
       "0           0.006661   89.446077  \n",
       "1           0.057351  121.808805  \n",
       "\n",
       "[2 rows x 30 columns]"
      ]
     },
     "execution_count": 17,
     "metadata": {},
     "output_type": "execute_result"
    }
   ],
   "source": [
    "balanced_dataset.groupby('Fraudulent').mean()"
   ]
  },
  {
   "cell_type": "markdown",
   "id": "16e53ce7",
   "metadata": {},
   "source": [
    "### Segmenting the Dataset into Features and Labels. "
   ]
  },
  {
   "cell_type": "code",
   "execution_count": 18,
   "id": "aa100252",
   "metadata": {},
   "outputs": [],
   "source": [
    "X = balanced_dataset.drop(columns='Fraudulent', axis=1)\n",
    "y = balanced_dataset['Fraudulent']"
   ]
  },
  {
   "cell_type": "code",
   "execution_count": 19,
   "id": "3f956708",
   "metadata": {},
   "outputs": [
    {
     "name": "stdout",
     "output_type": "stream",
     "text": [
      "            Time        V1        V2        V3        V4        V5        V6  \\\n",
      "2535      2098.0 -0.445649  0.462053  1.050359 -2.180048  0.231165 -0.758195   \n",
      "123311   76880.0  0.985471 -0.034260  0.442119  1.375254 -0.244245  0.052990   \n",
      "122902   76736.0 -1.876296  1.464179 -0.391039 -0.053657  0.194824  0.389521   \n",
      "128228   78641.0 -1.021325  0.488249  1.517893 -1.677494 -0.428086 -0.480524   \n",
      "49911    44263.0  0.652443 -1.642181  1.417921 -0.494876 -1.225030  2.487110   \n",
      "...          ...       ...       ...       ...       ...       ...       ...   \n",
      "192687  129808.0  1.522080 -0.519429 -2.581685  0.774741  0.206722 -1.431020   \n",
      "195383  131024.0  0.469750 -1.237555 -1.767341  4.833490 -0.268715 -0.512760   \n",
      "197586  132086.0 -0.361428  1.133472 -2.971360 -0.283073  0.371452 -0.574680   \n",
      "198868  132688.0  0.432554  1.861373 -4.310353  2.448080  4.574094 -2.979912   \n",
      "199896  133184.0 -1.212682 -2.484824 -6.397186  3.670562 -0.863375 -1.855855   \n",
      "\n",
      "              V7        V8        V9  ...       V20       V21       V22  \\\n",
      "2535    0.851403 -0.038639  0.886613  ... -0.124339  0.115612  0.610118   \n",
      "123311  0.058077  0.098685 -0.000555  ... -0.052584  0.002335  0.065717   \n",
      "122902 -0.274214  1.443834 -1.222272  ... -0.552607  0.406475  0.853111   \n",
      "128228 -0.011171  0.401551 -1.605317  ...  0.005442  0.148188  0.264412   \n",
      "49911  -1.631113  1.061594  2.901805  ... -0.061931  0.340124  1.359523   \n",
      "...          ...       ...       ...  ...       ...       ...       ...   \n",
      "192687  0.757011 -0.444418  0.997921  ...  0.361169  0.019649 -0.211678   \n",
      "195383  1.140149 -0.341273 -1.046351  ...  1.277315  0.303905 -0.647075   \n",
      "197586  4.031513 -0.934398 -0.768255  ... -0.025862  0.110815  0.563861   \n",
      "198868 -2.792379 -2.719867 -0.276704  ...  0.318853 -1.384477 -0.348904   \n",
      "199896  1.017732 -0.544704 -1.703378  ...  2.908374  1.396872  0.092073   \n",
      "\n",
      "             V23       V24       V25       V26       V27       V28   Amount  \n",
      "2535   -0.254144 -0.033585 -0.100171 -0.820068  0.237875 -0.031779     1.00  \n",
      "123311 -0.105851  0.250054  0.585122 -0.349836  0.024828  0.019079    71.62  \n",
      "122902  0.141538 -0.573763 -0.584592  0.499296 -0.458055 -0.130239     1.00  \n",
      "128228 -0.253941  0.119922  0.535924 -0.313361 -0.080105 -0.025627    11.95  \n",
      "49911  -0.197490 -0.959563  0.265456 -0.287089  0.183371  0.035786   146.21  \n",
      "...          ...       ...       ...       ...       ...       ...      ...  \n",
      "192687 -0.247452 -0.279472  0.239646 -0.508398 -0.015551  0.041881   276.17  \n",
      "195383 -0.373014  0.260801 -0.496566 -0.245973 -0.117858  0.144774   723.21  \n",
      "197586 -0.408436 -0.880079  1.408392 -0.137402 -0.001250 -0.182751   480.72  \n",
      "198868 -3.979948 -0.828156 -2.419446 -0.767070  0.387039  0.319402     1.00  \n",
      "199896 -1.492882 -0.204227  0.532511 -0.293871  0.212663  0.431095  1335.00  \n",
      "\n",
      "[877 rows x 30 columns]\n"
     ]
    }
   ],
   "source": [
    "print(X)"
   ]
  },
  {
   "cell_type": "code",
   "execution_count": 20,
   "id": "17e30737",
   "metadata": {},
   "outputs": [
    {
     "name": "stdout",
     "output_type": "stream",
     "text": [
      "2535      0\n",
      "123311    0\n",
      "122902    0\n",
      "128228    0\n",
      "49911     0\n",
      "         ..\n",
      "192687    1\n",
      "195383    1\n",
      "197586    1\n",
      "198868    1\n",
      "199896    1\n",
      "Name: Fraudulent, Length: 877, dtype: int64\n"
     ]
    }
   ],
   "source": [
    "print(y)"
   ]
  },
  {
   "cell_type": "markdown",
   "id": "848d96ee",
   "metadata": {},
   "source": [
    "### Separate the dataset into training and testing sets."
   ]
  },
  {
   "cell_type": "code",
   "execution_count": 21,
   "id": "18ddde60",
   "metadata": {},
   "outputs": [],
   "source": [
    "X_train, X_test, y_train, y_test = train_test_split(X, y, test_size=0.2, stratify=y, random_state=2)"
   ]
  },
  {
   "cell_type": "code",
   "execution_count": 22,
   "id": "5b0a1093",
   "metadata": {},
   "outputs": [
    {
     "name": "stdout",
     "output_type": "stream",
     "text": [
      "(877, 30) (701, 30) (176, 30)\n"
     ]
    }
   ],
   "source": [
    "print(X.shape, X_train.shape, X_test.shape)"
   ]
  },
  {
   "cell_type": "markdown",
   "id": "be01b817",
   "metadata": {},
   "source": [
    "#### Model Training\n",
    "\n",
    "#### Random Forest Classifier\n"
   ]
  },
  {
   "cell_type": "code",
   "execution_count": 23,
   "id": "bb173fd4",
   "metadata": {},
   "outputs": [],
   "source": [
    "model = RandomForestClassifier(n_estimators=100, random_state=42)"
   ]
  },
  {
   "cell_type": "code",
   "execution_count": 24,
   "id": "66b4d2ee",
   "metadata": {},
   "outputs": [
    {
     "data": {
      "text/html": [
       "<style>#sk-container-id-1 {color: black;background-color: white;}#sk-container-id-1 pre{padding: 0;}#sk-container-id-1 div.sk-toggleable {background-color: white;}#sk-container-id-1 label.sk-toggleable__label {cursor: pointer;display: block;width: 100%;margin-bottom: 0;padding: 0.3em;box-sizing: border-box;text-align: center;}#sk-container-id-1 label.sk-toggleable__label-arrow:before {content: \"▸\";float: left;margin-right: 0.25em;color: #696969;}#sk-container-id-1 label.sk-toggleable__label-arrow:hover:before {color: black;}#sk-container-id-1 div.sk-estimator:hover label.sk-toggleable__label-arrow:before {color: black;}#sk-container-id-1 div.sk-toggleable__content {max-height: 0;max-width: 0;overflow: hidden;text-align: left;background-color: #f0f8ff;}#sk-container-id-1 div.sk-toggleable__content pre {margin: 0.2em;color: black;border-radius: 0.25em;background-color: #f0f8ff;}#sk-container-id-1 input.sk-toggleable__control:checked~div.sk-toggleable__content {max-height: 200px;max-width: 100%;overflow: auto;}#sk-container-id-1 input.sk-toggleable__control:checked~label.sk-toggleable__label-arrow:before {content: \"▾\";}#sk-container-id-1 div.sk-estimator input.sk-toggleable__control:checked~label.sk-toggleable__label {background-color: #d4ebff;}#sk-container-id-1 div.sk-label input.sk-toggleable__control:checked~label.sk-toggleable__label {background-color: #d4ebff;}#sk-container-id-1 input.sk-hidden--visually {border: 0;clip: rect(1px 1px 1px 1px);clip: rect(1px, 1px, 1px, 1px);height: 1px;margin: -1px;overflow: hidden;padding: 0;position: absolute;width: 1px;}#sk-container-id-1 div.sk-estimator {font-family: monospace;background-color: #f0f8ff;border: 1px dotted black;border-radius: 0.25em;box-sizing: border-box;margin-bottom: 0.5em;}#sk-container-id-1 div.sk-estimator:hover {background-color: #d4ebff;}#sk-container-id-1 div.sk-parallel-item::after {content: \"\";width: 100%;border-bottom: 1px solid gray;flex-grow: 1;}#sk-container-id-1 div.sk-label:hover label.sk-toggleable__label {background-color: #d4ebff;}#sk-container-id-1 div.sk-serial::before {content: \"\";position: absolute;border-left: 1px solid gray;box-sizing: border-box;top: 0;bottom: 0;left: 50%;z-index: 0;}#sk-container-id-1 div.sk-serial {display: flex;flex-direction: column;align-items: center;background-color: white;padding-right: 0.2em;padding-left: 0.2em;position: relative;}#sk-container-id-1 div.sk-item {position: relative;z-index: 1;}#sk-container-id-1 div.sk-parallel {display: flex;align-items: stretch;justify-content: center;background-color: white;position: relative;}#sk-container-id-1 div.sk-item::before, #sk-container-id-1 div.sk-parallel-item::before {content: \"\";position: absolute;border-left: 1px solid gray;box-sizing: border-box;top: 0;bottom: 0;left: 50%;z-index: -1;}#sk-container-id-1 div.sk-parallel-item {display: flex;flex-direction: column;z-index: 1;position: relative;background-color: white;}#sk-container-id-1 div.sk-parallel-item:first-child::after {align-self: flex-end;width: 50%;}#sk-container-id-1 div.sk-parallel-item:last-child::after {align-self: flex-start;width: 50%;}#sk-container-id-1 div.sk-parallel-item:only-child::after {width: 0;}#sk-container-id-1 div.sk-dashed-wrapped {border: 1px dashed gray;margin: 0 0.4em 0.5em 0.4em;box-sizing: border-box;padding-bottom: 0.4em;background-color: white;}#sk-container-id-1 div.sk-label label {font-family: monospace;font-weight: bold;display: inline-block;line-height: 1.2em;}#sk-container-id-1 div.sk-label-container {text-align: center;}#sk-container-id-1 div.sk-container {/* jupyter's `normalize.less` sets `[hidden] { display: none; }` but bootstrap.min.css set `[hidden] { display: none !important; }` so we also need the `!important` here to be able to override the default hidden behavior on the sphinx rendered scikit-learn.org. See: https://github.com/scikit-learn/scikit-learn/issues/21755 */display: inline-block !important;position: relative;}#sk-container-id-1 div.sk-text-repr-fallback {display: none;}</style><div id=\"sk-container-id-1\" class=\"sk-top-container\"><div class=\"sk-text-repr-fallback\"><pre>RandomForestClassifier(random_state=42)</pre><b>In a Jupyter environment, please rerun this cell to show the HTML representation or trust the notebook. <br />On GitHub, the HTML representation is unable to render, please try loading this page with nbviewer.org.</b></div><div class=\"sk-container\" hidden><div class=\"sk-item\"><div class=\"sk-estimator sk-toggleable\"><input class=\"sk-toggleable__control sk-hidden--visually\" id=\"sk-estimator-id-1\" type=\"checkbox\" checked><label for=\"sk-estimator-id-1\" class=\"sk-toggleable__label sk-toggleable__label-arrow\">RandomForestClassifier</label><div class=\"sk-toggleable__content\"><pre>RandomForestClassifier(random_state=42)</pre></div></div></div></div></div>"
      ],
      "text/plain": [
       "RandomForestClassifier(random_state=42)"
      ]
     },
     "execution_count": 24,
     "metadata": {},
     "output_type": "execute_result"
    }
   ],
   "source": [
    "# Train the Random Forest Model with Training Data\n",
    "model.fit(X_train, y_train)"
   ]
  },
  {
   "cell_type": "markdown",
   "id": "788d9341",
   "metadata": {},
   "source": [
    "### Model Evaluation\n",
    "\n",
    "### Metrics: Accuracy, Precision, Recall, F1 Score"
   ]
  },
  {
   "cell_type": "code",
   "execution_count": 25,
   "id": "0abc6077",
   "metadata": {},
   "outputs": [],
   "source": [
    "# Accuracy on training data\n",
    "X_train_prediction = model.predict(X_train)\n",
    "training_accuracy = accuracy_score(X_train_prediction, y_train)"
   ]
  },
  {
   "cell_type": "code",
   "execution_count": 26,
   "id": "c29da97c",
   "metadata": {},
   "outputs": [
    {
     "name": "stdout",
     "output_type": "stream",
     "text": [
      "Accuracy on Training data:  1.0\n"
     ]
    }
   ],
   "source": [
    "print('Accuracy on Training data: ', training_accuracy)"
   ]
  },
  {
   "cell_type": "code",
   "execution_count": 27,
   "id": "238a8978",
   "metadata": {},
   "outputs": [],
   "source": [
    "# Accuracy on test data\n",
    "X_test_prediction = model.predict(X_test)\n",
    "test_accuracy = accuracy_score(X_test_prediction, y_test)"
   ]
  },
  {
   "cell_type": "code",
   "execution_count": 28,
   "id": "45cb987e",
   "metadata": {},
   "outputs": [
    {
     "name": "stdout",
     "output_type": "stream",
     "text": [
      "Accuracy score on Test Data:  0.9318181818181818\n"
     ]
    }
   ],
   "source": [
    "print('Accuracy score on Test Data: ', test_accuracy)"
   ]
  },
  {
   "cell_type": "markdown",
   "id": "168ceafc",
   "metadata": {},
   "source": [
    "# Additional metrics:\n",
    "## precision, Recall, F1 Score"
   ]
  },
  {
   "cell_type": "code",
   "execution_count": 29,
   "id": "cb827407",
   "metadata": {},
   "outputs": [],
   "source": [
    "precision = precision_score(X_test_prediction, y_test)"
   ]
  },
  {
   "cell_type": "code",
   "execution_count": 30,
   "id": "9dc47273",
   "metadata": {},
   "outputs": [
    {
     "name": "stdout",
     "output_type": "stream",
     "text": [
      "Precision: 0.8571428571428571\n"
     ]
    }
   ],
   "source": [
    "print('Precision:', precision)"
   ]
  },
  {
   "cell_type": "code",
   "execution_count": 31,
   "id": "652dff6c",
   "metadata": {},
   "outputs": [],
   "source": [
    "recall = recall_score(X_test_prediction, y_test)"
   ]
  },
  {
   "cell_type": "code",
   "execution_count": 32,
   "id": "50576aba",
   "metadata": {},
   "outputs": [
    {
     "name": "stdout",
     "output_type": "stream",
     "text": [
      "Recall: 0.9850746268656716\n"
     ]
    }
   ],
   "source": [
    "print('Recall:', recall)"
   ]
  },
  {
   "cell_type": "code",
   "execution_count": 33,
   "id": "fe97edc0",
   "metadata": {},
   "outputs": [],
   "source": [
    "f1 = f1_score(X_test_prediction, y_test)"
   ]
  },
  {
   "cell_type": "code",
   "execution_count": 34,
   "id": "63da6465",
   "metadata": {},
   "outputs": [
    {
     "name": "stdout",
     "output_type": "stream",
     "text": [
      "F1 Score: 0.9166666666666667\n"
     ]
    }
   ],
   "source": [
    "print('F1 Score:', f1)"
   ]
  },
  {
   "cell_type": "code",
   "execution_count": 35,
   "id": "a201b6c2",
   "metadata": {},
   "outputs": [
    {
     "data": {
      "image/png": "[encoded data removed]",
      "text/plain": [
       "<Figure size 640x480 with 1 Axes>"
      ]
     },
     "metadata": {},
     "output_type": "display_data"
    }
   ],
   "source": [
    "labels = ['Random Forest', 'Precision', 'Recall', 'F1 Score']\n",
    "values = [training_accuracy, precision, recall, f1]\n",
    "\n",
    "bar_positions = np.arange(len(labels))  # Bar positions on the x-axis\n",
    "bar_width = 0.35  # Width of the bars\n",
    "\n",
    "plt.bar(bar_positions, values, color=['blue', 'orange', 'red', 'purple'], width=bar_width, label=['Random Forest', 'Precision', 'Recall', 'F1 Score'])\n",
    "plt.title('Model Performance Comparison',fontsize=16)\n",
    "plt.xlabel('Metrics',fontsize=14)\n",
    "plt.ylabel('Score',fontsize=14)\n",
    "plt.xticks(bar_positions, labels, fontsize=13.5)  # Set x-axis labels\n",
    "plt.legend(loc='upper left', bbox_to_anchor=(1, 1),fontsize=16)  # Place legend outside the graph\n",
    "plt.show()"
   ]
  },
  {
   "cell_type": "code",
   "execution_count": null,
   "id": "b223324d",
   "metadata": {},
   "outputs": [],
   "source": []
  }
 ],
 "metadata": {
  "kernelspec": {
   "display_name": "Python 3 (ipykernel)",
   "language": "python",
   "name": "python3"
  },
  "language_info": {
   "codemirror_mode": {
    "name": "ipython",
    "version": 3
   },
   "file_extension": ".py",
   "mimetype": "text/x-python",
   "name": "python",
   "nbconvert_exporter": "python",
   "pygments_lexer": "ipython3",
   "version": "3.11.3"
  }
 },
 "nbformat": 4,
 "nbformat_minor": 5
}
